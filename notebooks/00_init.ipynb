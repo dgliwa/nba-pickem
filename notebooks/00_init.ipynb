{
 "cells": [
  {
   "cell_type": "markdown",
   "metadata": {},
   "source": [
    "# Welcome\n",
    "Each notebook is a different exploration of the nba games data. To run the notebooks, you'll need some initial data setup.\n",
    "\n",
    "Run the commands in this notebook to get set up and go from there (NOTE: each notebook builds off previous notebooks to run the 04 notebook you'll need to run the analyses in 00-03)"
   ]
  },
  {
   "cell_type": "code",
   "execution_count": 7,
   "metadata": {},
   "outputs": [],
   "source": [
    "from scrapy.crawler import CrawlerProcess\n",
    "from scrapy.utils.project import get_project_settings\n"
   ]
  },
  {
   "cell_type": "code",
   "execution_count": 8,
   "metadata": {},
   "outputs": [],
   "source": [
    "from odds_collection.spiders import NbaGamesSpider, NbaSeasonMatchupsSpider, NbaTeamsSpider, SportsBookMoneylineSpider, SportsBookSpreadSpider, SportsBookOverUnderSpider"
   ]
  },
  {
   "cell_type": "code",
   "execution_count": null,
   "metadata": {},
   "outputs": [],
   "source": [
    "for spider in [NbaTeamsSpider, NbaSeasonMatchupsSpider, NbaGamesSpider, SportsBookMoneylineSpider, SportsBookSpreadSpider, SportsBookOverUnderSpider]:\n",
    "  process = CrawlerProcess(settings=get_project_settings())\n",
    "  process.crawl(spider)\n"
   ]
  },
  {
   "cell_type": "code",
   "execution_count": null,
   "metadata": {},
   "outputs": [],
   "source": []
  }
 ],
 "metadata": {
  "kernelspec": {
   "display_name": "Python 3 (ipykernel)",
   "language": "python",
   "name": "python3"
  },
  "language_info": {
   "codemirror_mode": {
    "name": "ipython",
    "version": 3
   },
   "file_extension": ".py",
   "mimetype": "text/x-python",
   "name": "python",
   "nbconvert_exporter": "python",
   "pygments_lexer": "ipython3",
   "version": "3.11.5"
  }
 },
 "nbformat": 4,
 "nbformat_minor": 2
}
