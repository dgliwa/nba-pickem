{
 "cells": [
  {
   "cell_type": "markdown",
   "metadata": {},
   "source": [
    "# Welcome\n",
    "Each notebook is a different exploration of the nba games data. To run the notebooks, you'll need some initial data setup.\n",
    "\n",
    "FYI - these notebooks were run in Visual Studio Code, which has some special path handling for module imports. If you run in the browser for the jupyter server, you may run into some problems with file paths/module imports\n",
    "\n",
    "Run the commands in this notebook to get set up and go from there (NOTE: each notebook builds off previous notebooks to run the 04 notebook you'll need to run the analyses in 00-03)"
   ]
  },
  {
   "cell_type": "code",
   "execution_count": null,
   "metadata": {},
   "outputs": [],
   "source": [
    "import os\n",
    "\n",
    "! mkdir -p data/raw/odds\n",
    "\n",
    "! uv run scrapy crawl --loglevel INFO nba_teams\n",
    "! uv run scrapy crawl --loglevel INFO nba_season_matchups\n",
    "! uv run scrapy crawl --loglevel INFO nba_games\n",
    "! uv run scrapy crawl --loglevel INFO sports_book_moneyline\n",
    "! uv run scrapy crawl --loglevel INFO sports_book_over_under\n",
    "! uv run scrapy crawl --loglevel INFO sports_book_spread"
   ]
  },
  {
   "cell_type": "code",
   "execution_count": null,
   "metadata": {},
   "outputs": [],
   "source": []
  }
 ],
 "metadata": {
  "kernelspec": {
   "display_name": "Python 3 (ipykernel)",
   "language": "python",
   "name": "python3"
  },
  "language_info": {
   "codemirror_mode": {
    "name": "ipython",
    "version": 3
   },
   "file_extension": ".py",
   "mimetype": "text/x-python",
   "name": "python",
   "nbconvert_exporter": "python",
   "pygments_lexer": "ipython3",
   "version": "3.12.6"
  }
 },
 "nbformat": 4,
 "nbformat_minor": 4
}
