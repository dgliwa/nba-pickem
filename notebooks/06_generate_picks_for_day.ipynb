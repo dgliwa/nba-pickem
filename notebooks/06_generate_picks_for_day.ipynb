{
 "cells": [
  {
   "cell_type": "markdown",
   "metadata": {},
   "source": [
    "# Generate picks for today's games\n",
    "This code will likely be used in the web application"
   ]
  },
  {
   "cell_type": "code",
   "execution_count": 21,
   "metadata": {},
   "outputs": [],
   "source": [
    "import pickle\n",
    "import pandas as pd\n",
    "import requests\n",
    "from datetime import datetime\n",
    "from zoneinfo import ZoneInfo"
   ]
  },
  {
   "cell_type": "code",
   "execution_count": 22,
   "metadata": {},
   "outputs": [],
   "source": [
    "nba_games_model = pickle.load(open('data/2024_random_forest_model.pkl', 'rb'))\n",
    "nba_games = pd.read_csv('data/04_improved_model_with_moneylines.csv', dtype={'GAME_ID': str}, parse_dates=['GAME_DATE_EST'], date_format='%Y-%m-%d')\n",
    "nba_games = nba_games.sort_values(by='GAME_DATE_EST')"
   ]
  },
  {
   "cell_type": "code",
   "execution_count": null,
   "metadata": {},
   "outputs": [],
   "source": [
    "nba_games.info()"
   ]
  },
  {
   "cell_type": "code",
   "execution_count": 24,
   "metadata": {},
   "outputs": [],
   "source": [
    "\n",
    "HEADERS = {\n",
    "  \"Referer\": \"stats.nba.com\",\n",
    "  \"Content-Type\": \"application/json\",\n",
    "  \"Accept\": \"*/*\",\n",
    "  \"Accept-Encoding\": \"gzip, deflate, br\",\n",
    "  \"Connection\": \"keep-alive\",\n",
    "  \"Host\": \"stats.nba.com\",\n",
    "  \"Origin\": \"https://stats.nba.com\",\n",
    "  \"User-Agent\": \"Mozilla/5.0 (X11; Ubuntu; Linux x86_64; rv:70.0) Gecko/20100101 Firefox/70.0\",\n",
    "}\n",
    "eastern = ZoneInfo('US/Eastern')\n",
    "current_date = datetime.now(eastern).strftime('%m/%d/%Y')\n",
    "url = f\"https://stats.nba.com/stats/scoreboardV2?DayOffset=0&LeagueID=00&gameDate={current_date}\"\n",
    "\n",
    "res = requests.get(url, headers=HEADERS).json()"
   ]
  },
  {
   "cell_type": "code",
   "execution_count": 25,
   "metadata": {},
   "outputs": [],
   "source": [
    "def calc_last_n_win_pct(team_id, n):\n",
    "    _game = nba_games[(nba_games['HOME_TEAM_ID'] == team_id) | (nba_games['AWAY_TEAM_ID'] == team_id)]\n",
    "    _game['IS_HOME'] = _game['HOME_TEAM_ID'] == team_id\n",
    "    _game['WIN_PRCT'] = _game['IS_HOME'] == _game['HOME_TEAM_WINS']\n",
    "    return _game[\"WIN_PRCT\"].tail(n).mean()\n"
   ]
  },
  {
   "cell_type": "code",
   "execution_count": null,
   "metadata": {},
   "outputs": [],
   "source": [
    "nba_games_model.feature_names_in_"
   ]
  },
  {
   "cell_type": "code",
   "execution_count": null,
   "metadata": {},
   "outputs": [],
   "source": [
    "results = res['resultSets']\n",
    "game_headers = results[0]\n",
    "eastern_standings = results[4]\n",
    "western_standings = results[5]\n",
    "\n",
    "games = []\n",
    "for game in game_headers.get('rowSet'):\n",
    "  game_id = game[2]\n",
    "  home_team_id = game[6]\n",
    "  away_team_id = game[7]\n",
    "  season = game[8]\n",
    "\n",
    "  if home_team_id in [r[0] for r in eastern_standings.get(\"rowSet\")]:\n",
    "      home_team_rank = next((team for team in eastern_standings.get(\"rowSet\") if team[0] == home_team_id))\n",
    "  else:\n",
    "      home_team_rank = next((team for team in western_standings.get(\"rowSet\") if team[0] == home_team_id))\n",
    "\n",
    "  if away_team_id in [r[0] for r in eastern_standings.get(\"rowSet\")]:\n",
    "      away_team_rank = next((team for team in eastern_standings.get(\"rowSet\") if team[0] == away_team_id))\n",
    "  else:\n",
    "      away_team_rank = next((team for team in western_standings.get(\"rowSet\") if team[0] == away_team_id))\n",
    "\n",
    "  home_win_pct = home_team_rank[9]\n",
    "  home_home_wins, home_home_losses = home_team_rank[10].split(\"-\")\n",
    "  home_home_win_pct = int(home_home_wins) / (int(home_home_wins) + int(home_home_losses)) if int(home_home_wins) + int(home_home_losses) > 0 else 0\n",
    "\n",
    "  away_win_pct = away_team_rank[9]\n",
    "  away_away_wins, away_away_losses = away_team_rank[11].split(\"-\")\n",
    "  away_away_win_pct = int(away_away_wins) / (int(away_away_wins) + int(away_away_losses)) if int(away_away_wins) + int(away_away_losses) > 0 else 0\n",
    "\n",
    "  game_date = datetime.strptime(game[0], \"%Y-%m-%dT%H:%M:%S\")\n",
    "  yesterday = game_date - pd.Timedelta(days=1)\n",
    "\n",
    "  home_yesterday_game_count = len(nba_games[(nba_games['GAME_DATE_EST'] == yesterday) & ((nba_games['HOME_TEAM_ID'] == home_team_id) | (nba_games[\"AWAY_TEAM_ID\"] == home_team_id))])\n",
    "  home_b2b = home_yesterday_game_count > 0\n",
    "\n",
    "  away_yesterday_game_count = len(nba_games[(nba_games['GAME_DATE_EST'] == yesterday) & ((nba_games['HOME_TEAM_ID'] == away_team_id) | (nba_games[\"AWAY_TEAM_ID\"] == away_team_id))])\n",
    "  away_b2b = away_yesterday_game_count > 0\n",
    "\n",
    "  home_last_10_win_pct = calc_last_n_win_pct(home_team_id, 10)\n",
    "  away_last_10_win_pct = calc_last_n_win_pct(away_team_id, 10)\n",
    "\n",
    "\n",
    "  games.append({\n",
    "      \"GAME_DATETIME\": int(game_date.timestamp()) * 10**9,\n",
    "      \"HOME_TEAM_ID\": home_team_id,\n",
    "      \"AWAY_TEAM_ID\": away_team_id,\n",
    "      \"HOME_WIN_PCT\": home_win_pct,\n",
    "      \"HOME_HOME_WIN_PCT\": home_home_win_pct,\n",
    "      \"AWAY_WIN_PCT\": away_win_pct,\n",
    "      \"AWAY_AWAY_WIN_PCT\": away_away_win_pct,\n",
    "      \"HOME_TEAM_B2B\": home_b2b,\n",
    "      \"AWAY_TEAM_B2B\": away_b2b,\n",
    "      \"HOME_LAST_10_WIN_PCT\": home_last_10_win_pct,\n",
    "      \"AWAY_LAST_10_WIN_PCT\": away_last_10_win_pct\n",
    "  })"
   ]
  },
  {
   "cell_type": "code",
   "execution_count": null,
   "metadata": {},
   "outputs": [],
   "source": [
    "games"
   ]
  },
  {
   "cell_type": "code",
   "execution_count": 29,
   "metadata": {},
   "outputs": [],
   "source": [
    "games_df = pd.DataFrame(games)\n",
    "games_df[\"PREDICTION\"] = nba_games_model.predict(games_df)"
   ]
  },
  {
   "cell_type": "code",
   "execution_count": 30,
   "metadata": {},
   "outputs": [],
   "source": [
    "teams = pd.read_csv('data/raw/nba_teams.csv')"
   ]
  },
  {
   "cell_type": "code",
   "execution_count": null,
   "metadata": {},
   "outputs": [],
   "source": [
    "games_df = games_df.merge(teams[[\"TEAM_ID\", \"ABBREVIATION\", \"NICKNAME\"]], left_on='HOME_TEAM_ID', right_on='TEAM_ID')\n",
    "games_df = games_df.merge(teams[[\"TEAM_ID\", \"ABBREVIATION\", \"NICKNAME\"]], left_on='AWAY_TEAM_ID', right_on='TEAM_ID', suffixes=('_HOME', '_AWAY'))\n",
    "games_df.drop(columns=[\"TEAM_ID_HOME\", \"TEAM_ID_AWAY\"], inplace=True)\n",
    "games_df"
   ]
  },
  {
   "cell_type": "code",
   "execution_count": 32,
   "metadata": {},
   "outputs": [],
   "source": [
    "def prettify_winner(row):\n",
    "    if row[\"PREDICTION\"] == 1:\n",
    "        return f\"{row['ABBREVIATION_HOME']} {row['NICKNAME_HOME']}\"\n",
    "    else:\n",
    "        return f\"{row['ABBREVIATION_AWAY']} {row['NICKNAME_AWAY']}\"\n",
    "\n",
    "games_df[\"WINNER\"] = games_df.apply(prettify_winner, axis=1)"
   ]
  },
  {
   "cell_type": "code",
   "execution_count": 33,
   "metadata": {},
   "outputs": [],
   "source": [
    "games_df[\"GAME_DATE_EST\"] = pd.to_datetime(games_df[\"GAME_DATETIME\"], unit='ns').dt.strftime('%Y-%m-%d')"
   ]
  },
  {
   "cell_type": "code",
   "execution_count": null,
   "metadata": {},
   "outputs": [],
   "source": [
    "games_df[[\"GAME_DATE_EST\", \"ABBREVIATION_HOME\", \"NICKNAME_HOME\", \"ABBREVIATION_AWAY\", \"NICKNAME_AWAY\", \"WINNER\"]].to_json(orient='records')"
   ]
  },
  {
   "cell_type": "code",
   "execution_count": null,
   "metadata": {},
   "outputs": [],
   "source": []
  }
 ],
 "metadata": {
  "kernelspec": {
   "display_name": "Python 3 (ipykernel)",
   "language": "python",
   "name": "python3"
  },
  "language_info": {
   "codemirror_mode": {
    "name": "ipython",
    "version": 3
   },
   "file_extension": ".py",
   "mimetype": "text/x-python",
   "name": "python",
   "nbconvert_exporter": "python",
   "pygments_lexer": "ipython3",
   "version": "3.11.5"
  }
 },
 "nbformat": 4,
 "nbformat_minor": 2
}
