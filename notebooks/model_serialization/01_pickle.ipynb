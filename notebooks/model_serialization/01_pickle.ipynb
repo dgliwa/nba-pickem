{
 "cells": [
  {
   "cell_type": "markdown",
   "metadata": {},
   "source": [
    "# Using pickle to serialize the sklearn model"
   ]
  },
  {
   "cell_type": "code",
   "execution_count": 1,
   "metadata": {},
   "outputs": [],
   "source": [
    "import pickle\n",
    "import numpy as np\n",
    "import pandas as pd\n",
    "from sklearn.ensemble import RandomForestClassifier"
   ]
  },
  {
   "cell_type": "code",
   "execution_count": 2,
   "metadata": {},
   "outputs": [
    {
     "name": "stdout",
     "output_type": "stream",
     "text": [
      "<class 'pandas.core.frame.DataFrame'>\n",
      "RangeIndex: 6133 entries, 0 to 6132\n",
      "Data columns (total 27 columns):\n",
      " #   Column                Non-Null Count  Dtype  \n",
      "---  ------                --------------  -----  \n",
      " 0   GAME_DATE_EST         6133 non-null   object \n",
      " 1   GAME_ID               6133 non-null   float64\n",
      " 2   HOME_TEAM_ID          6133 non-null   float64\n",
      " 3   AWAY_TEAM_ID          6133 non-null   float64\n",
      " 4   SEASON                6133 non-null   float64\n",
      " 5   HOME_TEAM_POINTS      6133 non-null   float64\n",
      " 6   AWAY_TEAM_POINTS      6133 non-null   float64\n",
      " 7   HOME_WIN_PCT          6133 non-null   float64\n",
      " 8   HOME_HOME_WIN_PCT     6133 non-null   float64\n",
      " 9   AWAY_WIN_PCT          6133 non-null   float64\n",
      " 10  AWAY_AWAY_WIN_PCT     6133 non-null   float64\n",
      " 11  HOME_TEAM_WINS        6133 non-null   bool   \n",
      " 12  HOME_TEAM_B2B         6133 non-null   bool   \n",
      " 13  AWAY_TEAM_B2B         6133 non-null   bool   \n",
      " 14  GAME_DATETIME         6133 non-null   float64\n",
      " 15  HOME_LAST_10_WIN_PCT  6133 non-null   float64\n",
      " 16  AWAY_LAST_10_WIN_PCT  6133 non-null   float64\n",
      " 17  GAME_DATE_STR         6133 non-null   object \n",
      " 18  DATE                  6133 non-null   object \n",
      " 19  FANDUEL_AWAY_ODDS     6117 non-null   float64\n",
      " 20  FANDUEL_HOME_ODDS     6117 non-null   float64\n",
      " 21  MGM_AWAY_ODDS         4387 non-null   float64\n",
      " 22  MGM_HOME_ODDS         4387 non-null   float64\n",
      " 23  DRAFTKINGS_AWAY_ODDS  6117 non-null   float64\n",
      " 24  DRAFTKINGS_HOME_ODDS  6117 non-null   float64\n",
      " 25  CAESARS_AWAY_ODDS     5771 non-null   float64\n",
      " 26  CAESARS_HOME_ODDS     5771 non-null   float64\n",
      "dtypes: bool(3), float64(21), object(3)\n",
      "memory usage: 1.1+ MB\n"
     ]
    }
   ],
   "source": [
    "nba_games = pd.read_csv('data/04_improved_model_with_moneylines.csv')\n",
    "nba_games.info()"
   ]
  },
  {
   "cell_type": "code",
   "execution_count": 3,
   "metadata": {},
   "outputs": [],
   "source": [
    "feat_cols = [\n",
    "  \"GAME_DATETIME\",\n",
    "  \"HOME_TEAM_ID\",\n",
    "  \"AWAY_TEAM_ID\",\n",
    "  \"HOME_WIN_PCT\",\n",
    "  \"HOME_HOME_WIN_PCT\",\n",
    "  \"AWAY_WIN_PCT\",\n",
    "  \"AWAY_AWAY_WIN_PCT\",\n",
    "  \"HOME_TEAM_B2B\",\n",
    "  \"AWAY_TEAM_B2B\",\n",
    "  \"HOME_LAST_10_WIN_PCT\",\n",
    "  \"AWAY_LAST_10_WIN_PCT\"\n",
    "]\n",
    "\n",
    "target = \"HOME_TEAM_WINS\""
   ]
  },
  {
   "cell_type": "code",
   "execution_count": 4,
   "metadata": {},
   "outputs": [],
   "source": [
    "def calculate_season_model(s):\n",
    "  season = nba_games.loc[(nba_games['SEASON'] == s)].sort_values(by=\"GAME_DATETIME\")\n",
    "  train_1, test_1, test_2 = np.array_split(season, 3)\n",
    "  train = pd.concat([train_1])\n",
    "  X_train, y_train = train[feat_cols], train[target]\n",
    "\n",
    "  test = pd.concat([test_1, test_2])\n",
    "  X_test, y_test = test[feat_cols], test[target]\n",
    "  clf = RandomForestClassifier(random_state=42, n_jobs=2, n_estimators=1000, max_depth=7, bootstrap=True)\n",
    "  clf.fit(X_train, y_train)\n",
    "  print('Train accuracy:',clf.score(X_train, y_train))\n",
    "  print('Test accuracy:', clf.score(X_test, y_test))\n",
    "  return clf"
   ]
  },
  {
   "cell_type": "code",
   "execution_count": 7,
   "metadata": {},
   "outputs": [
    {
     "name": "stderr",
     "output_type": "stream",
     "text": [
      "/Users/derek.gliwa/personal_dev/nba-data-scrapping/.venv/lib/python3.11/site-packages/numpy/_core/fromnumeric.py:57: FutureWarning: 'DataFrame.swapaxes' is deprecated and will be removed in a future version. Please use 'DataFrame.transpose' instead.\n",
      "  return bound(*args, **kwds)\n"
     ]
    },
    {
     "name": "stdout",
     "output_type": "stream",
     "text": [
      "Train accuracy: 1.0\n",
      "Test accuracy: 0.7475247524752475\n"
     ]
    }
   ],
   "source": [
    "model_2024 = calculate_season_model(2024)"
   ]
  },
  {
   "cell_type": "code",
   "execution_count": 8,
   "metadata": {},
   "outputs": [],
   "source": [
    "pickle.dump(model_2024, open('data/2024_random_forest_model.pkl', 'wb'))"
   ]
  },
  {
   "cell_type": "code",
   "execution_count": 9,
   "metadata": {},
   "outputs": [],
   "source": [
    "loaded_model_2024 = pickle.load(open('data/2024_random_forest_model.pkl', 'rb'))"
   ]
  },
  {
   "cell_type": "code",
   "execution_count": 10,
   "metadata": {},
   "outputs": [
    {
     "name": "stderr",
     "output_type": "stream",
     "text": [
      "/Users/derek.gliwa/personal_dev/nba-data-scrapping/.venv/lib/python3.11/site-packages/numpy/_core/fromnumeric.py:57: FutureWarning: 'DataFrame.swapaxes' is deprecated and will be removed in a future version. Please use 'DataFrame.transpose' instead.\n",
      "  return bound(*args, **kwds)\n"
     ]
    },
    {
     "name": "stdout",
     "output_type": "stream",
     "text": [
      "Train accuracy: 1.0\n",
      "Test accuracy: 0.7475247524752475\n"
     ]
    }
   ],
   "source": [
    "def test_loaded_season_model(model):\n",
    "  season = nba_games.loc[(nba_games['SEASON'] == 2024)].sort_values(by=\"GAME_DATETIME\")\n",
    "  train_1, test_1, test_2 = np.array_split(season, 3)\n",
    "  train = pd.concat([train_1])\n",
    "  X_train, y_train = train[feat_cols], train[target]\n",
    "\n",
    "  test = pd.concat([test_1, test_2])\n",
    "  X_test, y_test = test[feat_cols], test[target]\n",
    "  print('Train accuracy:',model.score(X_train, y_train))\n",
    "  print('Test accuracy:', model.score(X_test, y_test))\n",
    "\n",
    "test_loaded_season_model(loaded_model_2024)"
   ]
  },
  {
   "cell_type": "markdown",
   "metadata": {},
   "source": [
    "## Results\n",
    "Model easily serialized/deserialized with pickle module"
   ]
  }
 ],
 "metadata": {
  "kernelspec": {
   "display_name": "Python 3 (ipykernel)",
   "language": "python",
   "name": "python3"
  },
  "language_info": {
   "codemirror_mode": {
    "name": "ipython",
    "version": 3
   },
   "file_extension": ".py",
   "mimetype": "text/x-python",
   "name": "python",
   "nbconvert_exporter": "python",
   "pygments_lexer": "ipython3",
   "version": "3.11.5"
  }
 },
 "nbformat": 4,
 "nbformat_minor": 2
}
